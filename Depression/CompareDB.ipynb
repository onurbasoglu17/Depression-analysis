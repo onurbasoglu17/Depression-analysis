{
 "cells": [
  {
   "cell_type": "code",
   "execution_count": null,
   "metadata": {},
   "outputs": [],
   "source": [
    "# For MongoDB\n",
    "# For Cassandra\n",
    "from cassandra.cluster import Cluster\n",
    "from pymongo import MongoClient\n",
    "import pandas as pd\n",
    "import uuid\n",
    "import psutil\n",
    "import time"
   ]
  },
  {
   "cell_type": "code",
   "execution_count": null,
   "metadata": {},
   "outputs": [],
   "source": [
    "\n",
    "mongo_client = MongoClient('mongodb://localhost:27017/')\n",
    "mongo_db = mongo_client['Twitter']\n",
    "mongo_collection = mongo_db['Preprocessed_Data']\n",
    "\n",
    "print('MONGO OBJ CREATED')\n",
    "\n",
    "cassandra_cluster = Cluster(['localhost'])\n",
    "cassandra_session = cassandra_cluster.connect()\n",
    "cassandra_session.execute(\"\"\"\n",
    "    CREATE KEYSPACE IF NOT EXISTS Twitter\n",
    "    WITH replication = {'class': 'SimpleStrategy', 'replication_factor': '1'}\n",
    "\"\"\")\n",
    "# cassandra_session.set_keyspace('Twitter')\n",
    "cassandra_session.execute(\"\"\"\n",
    "    CREATE TABLE IF NOT EXISTS Twitter.Preprocessed_Dataset (\n",
    "        id uuid PRIMARY KEY,\n",
    "        Date text,\n",
    "        sentiment_score text,\n",
    "        sentiment text\n",
    "    )\n",
    "\"\"\")\n",
    "print('Cassandra OBJ CREATED')"
   ]
  },
  {
   "cell_type": "code",
   "execution_count": null,
   "metadata": {},
   "outputs": [],
   "source": [
    "\n",
    "# Create a sample DataFrame\n",
    "df = pd.read_csv('sentiment_results.csv')\n",
    "\n",
    "\n",
    "\n",
    "\n",
    "\n",
    "# Measure CPU usage, memory utilization, and core utilization\n",
    "start_cpu = psutil.cpu_percent()\n",
    "start_mem = psutil.virtual_memory().percent\n",
    "start_cores = psutil.cpu_count(logical=False)\n",
    "\n",
    "# Measure insertion time for MongoDB\n",
    "start = time.time()\n",
    "mongo_collection.insert_many(df.to_dict('records'))\n",
    "end = time.time()\n",
    "mongo_insert_time = end - start\n",
    "print('DATAFRAME ADDED TO MONGO')\n",
    "\n",
    "\n"
   ]
  },
  {
   "cell_type": "code",
   "execution_count": null,
   "metadata": {},
   "outputs": [],
   "source": [
    "# Measure insertion time for Cassandra\n",
    "start = time.time()\n",
    "\n",
    "for row in df.itertuples():\n",
    "    cassandra_session.execute(\"\"\"\n",
    "        INSERT INTO Twitter.Preprocessed_Dataset (id, Date, sentiment_score, sentiment )\n",
    "        VALUES (%s, %s, %s, %s)\n",
    "    \"\"\", (uuid.uuid4(), row.Date,  str(row.sentiment_score), row.sentiment ), timeout = 600)\n",
    "    \n",
    "end = time.time()\n",
    "cassandra_insert_time = end - start\n",
    "print('DATAFRAME ADDED TO CASSANDRA')\n",
    "\n"
   ]
  },
  {
   "cell_type": "code",
   "execution_count": null,
   "metadata": {},
   "outputs": [],
   "source": [
    "# Measure update time for MongoDB\n",
    "start = time.time()\n",
    "mongo_collection.update_many({}, {'$set': {'sentiment_score': 50}})\n",
    "end = time.time()\n",
    "mongo_update_time = end - start\n",
    "print(\"MONGODB UPDATED\")\n",
    "\n"
   ]
  },
  {
   "cell_type": "code",
   "execution_count": null,
   "metadata": {},
   "outputs": [],
   "source": [
    "# Measure update time for Cassandra\n",
    "start = time.time()\n",
    "row_uuid = uuid.UUID('f625d687-19db-480c-9e4e-6e27eefd2c06')\n",
    "cassandra_session.execute(\"\"\"\n",
    "    UPDATE Twitter.Preprocessed_Dataset SET sentiment_score = '50' where id = %s;\n",
    "\"\"\", (row_uuid,))\n",
    "end = time.time()\n",
    "cassandra_update_time = end - start\n",
    "print(\"CASSANDRA UPDATED\")\n",
    "\n"
   ]
  },
  {
   "cell_type": "code",
   "execution_count": null,
   "metadata": {},
   "outputs": [],
   "source": [
    "# Measure creation time for MongoDB\n",
    "start = time.time()\n",
    "mongo_db.create_collection('new_cgoullection')\n",
    "end = time.time()\n",
    "mongo_create_time = end - start\n",
    "\n",
    "# Measure creation time for Cassandra\n",
    "start = time.time()\n",
    "cassandra_session.execute(\"\"\"\n",
    "    CREATE TABLE IF NOT EXISTS Twitter.new_table (\n",
    "        id uuid PRIMARY KEY,\n",
    "        name text,\n",
    "        age int,\n",
    "        city text\n",
    "    )\n",
    "\"\"\")\n",
    "end = time.time()\n",
    "cassandra_create_time = end - start\n"
   ]
  },
  {
   "cell_type": "code",
   "execution_count": null,
   "metadata": {},
   "outputs": [],
   "source": [
    "\n",
    "# Measure CPU usage, memory utilization, and core utilization again\n",
    "end_cpu = psutil.cpu_percent()\n",
    "end_mem = psutil.virtual_memory().used\n",
    "\n",
    "print(\"Calculation Done\")\n",
    "\n",
    "end_cores = psutil.cpu_count(logical=False)\n",
    "\n",
    "\n",
    "# Create a DataFrame with the measured values\n",
    "df = pd.DataFrame({\n",
    "    'Database': ['MongoDB', 'Cassandra'],\n",
    "    'CPU Usage (%)': [end_cpu - start_cpu] * 2,\n",
    "    'Memory Utilization (%)': [end_mem - start_mem] * 2,\n",
    "    'Core Utilization': [end_cores - start_cores] * 2,\n",
    "    'Insertion Time (s)': [mongo_insert_time, cassandra_insert_time],\n",
    "    'Update Time (s)': [mongo_update_time, cassandra_update_time],\n",
    "    'Creation Time (s)': [mongo_create_time, cassandra_create_time]\n",
    "})\n",
    "\n",
    "# Save the DataFrame as a CSV file\n",
    "df.to_csv('database_comparison.csv', index=False)"
   ]
  }
 ],
 "metadata": {
  "language_info": {
   "name": "python"
  },
  "orig_nbformat": 4
 },
 "nbformat": 4,
 "nbformat_minor": 2
}
