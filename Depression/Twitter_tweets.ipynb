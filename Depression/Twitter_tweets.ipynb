{
 "cells": [
  {
   "cell_type": "code",
   "execution_count": 1,
   "metadata": {},
   "outputs": [],
   "source": [
    "import tweepy\n",
    "from sqlalchemy import create_engine, Column, Integer, String, Text\n",
    "from sqlalchemy.ext.declarative import declarative_base\n",
    "from sqlalchemy.orm import sessionmaker\n",
    "from datetime import datetime, timedelta\n",
    "\n",
    "# Twitter API credentials\n",
    " \n",
    "access_token= '358138140-mwHh89hZAvtpnYknXUFmuntAZJFdFvvEFc0sdv5R'\n",
    "access_token_secret = '2tFE2l46VqEKbtciXakCxOc12ByX8j8oOfjuj8zeOO5KH'\n",
    "consumer_key= 'UugW7t0OUYczGoBBHrN33YXAT'\n",
    "consumer_secret = 'WtbLz0peBbvwk49uUR7kVi5SGnYUEKhNoJ6Njai6lHzCf7qvl5'\n",
    "\n",
    "# Authenticate with the Twitter API\n",
    "auth = tweepy.OAuthHandler(consumer_key, consumer_secret)\n",
    "auth.set_access_token(access_token, access_token_secret)\n",
    "\n",
    "# Connect to the Twitter API\n",
    "api = tweepy.API(auth)\n"
   ]
  },
  {
   "cell_type": "code",
   "execution_count": 2,
   "metadata": {},
   "outputs": [],
   "source": [
    "import tweepy\n",
    "import datetime\n",
    "query = 'depress'\n",
    "\n"
   ]
  },
  {
   "cell_type": "code",
   "execution_count": 3,
   "metadata": {},
   "outputs": [
    {
     "data": {
      "text/plain": [
       "datetime.timedelta(days=10)"
      ]
     },
     "execution_count": 3,
     "metadata": {},
     "output_type": "execute_result"
    }
   ],
   "source": [
    "import datetime\n",
    "datetime.timedelta(days=10)"
   ]
  },
  {
   "cell_type": "code",
   "execution_count": 4,
   "metadata": {},
   "outputs": [
    {
     "name": "stdout",
     "output_type": "stream",
     "text": [
      "2023-05-08\n",
      "2023-04-08\n",
      "2023-03-09\n",
      "2023-02-07\n",
      "2023-01-08\n",
      "2022-12-09\n",
      "2022-11-09\n",
      "2022-10-10\n",
      "2022-09-10\n",
      "2022-08-11\n",
      "2022-07-12\n",
      "2022-06-12\n",
      "2022-05-13\n"
     ]
    }
   ],
   "source": [
    "# Iterate over each day in the date range\n",
    "import pymongo\n",
    "\n",
    "today = datetime.datetime.now().date()\n",
    "step1 = today - datetime.timedelta(days=365)\n",
    "for date in (today - datetime.timedelta(n) for n in range(0, (today - step1).days,30)):\n",
    "    print(date)\n"
   ]
  },
  {
   "cell_type": "code",
   "execution_count": 4,
   "metadata": {},
   "outputs": [
    {
     "data": {
      "text/plain": [
       "datetime.date(2022, 5, 13)"
      ]
     },
     "execution_count": 4,
     "metadata": {},
     "output_type": "execute_result"
    }
   ],
   "source": [
    "date"
   ]
  },
  {
   "cell_type": "code",
   "execution_count": null,
   "metadata": {},
   "outputs": [],
   "source": []
  },
  {
   "cell_type": "code",
   "execution_count": 5,
   "metadata": {},
   "outputs": [],
   "source": [
    "import pandas as pd\n",
    "df = pd.DataFrame()\n",
    "def run_step(today,collection):\n",
    "    # Search for tweets with the query and get 10 tweets per page\n",
    "    j= 0\n",
    "    \n",
    "    since_date = today - datetime.timedelta(days=30)\n",
    "\n",
    "    # Perform the search\n",
    "    tweets = tweepy.Cursor(api.search_tweets,\n",
    "                q=query,\n",
    "                lang=\"en\",\n",
    "                since_id=since_date, until=today).items()\n",
    "\n",
    "    # Print out the tweets\n",
    "    for tweet in tweets:\n",
    "        j = j + 1\n",
    "        if j > 200:\n",
    "            break\n",
    "        tweet_op = {\n",
    "                'Text' : tweet.text,\n",
    "                'Date': tweet.created_at\n",
    "            }\n",
    "        global df\n",
    "        df = df.append(tweet_op, ignore_index  = True)\n",
    "        # collection.insert_one(tweet_op)\n",
    "\n",
    "    print(today,since_date, j)\n",
    "    return today - datetime.timedelta(days=30)\n"
   ]
  },
  {
   "cell_type": "code",
   "execution_count": 16,
   "metadata": {},
   "outputs": [
    {
     "name": "stdout",
     "output_type": "stream",
     "text": [
      "Hit rate limit. Waiting for 15 minutes...\n",
      "Hit rate limit. Waiting for 15 minutes...\n",
      "Hit rate limit. Waiting for 15 minutes...\n",
      "Hit rate limit. Waiting for 15 minutes...\n"
     ]
    }
   ],
   "source": [
    "import tweepy\n",
    "import pandas as pd\n",
    "import time\n",
    "from datetime import datetime, timedelta\n",
    "\n",
    "\n",
    "# Authenticate with the Twitter API\n",
    "auth = tweepy.OAuth1UserHandler(\n",
    "    consumer_key, consumer_secret, access_token, access_token_secret)\n",
    "\n",
    "api = tweepy.API(auth)\n",
    "\n",
    "# Set the query term and date range\n",
    "query = \"depression\"\n",
    "start_date = datetime.now() - timedelta(days=365)\n",
    "end_date = datetime.now()\n",
    "\n",
    "# Initialize the dataframe to store the tweets\n",
    "df = pd.DataFrame(columns=['id', 'created_at', 'text', 'user_screen_name'])\n",
    "\n",
    "# Set the initial batch of tweets to retrieve\n",
    "tweets = tweepy.Cursor(api.search_tweets, q=query, lang='en', tweet_mode='extended',\n",
    "                       since_id=start_date.strftime('%Y-%m-%d'), until=end_date.strftime('%Y-%m-%d')).items()\n",
    "\n",
    "# Retrieve tweets until the desired number of tweets is reached or the end of the date range is reached\n",
    "tweet_count = 0\n",
    "while tweet_count < 1000:\n",
    "    try:\n",
    "        # Get the next batch of tweets\n",
    "        tweet = tweets.next()\n",
    "\n",
    "        # Check if the tweet meets the criteria (at least 200 tweets per week)\n",
    "        created_at = datetime.strptime(str(tweet.created_at)[:19], '%Y-%m-%d %H:%M:%S')\n",
    "        week_start = start_date - timedelta(days=start_date.weekday())\n",
    "        week_end = week_start + timedelta(days=6)\n",
    "        if week_start <= created_at <= week_end:\n",
    "            tweet_count += 1\n",
    "            df = df.append({'id': tweet.id_str, 'created_at': tweet.created_at,\n",
    "                            'text': tweet.full_text, 'user_screen_name': tweet.user.screen_name},\n",
    "                           ignore_index=True)\n",
    "\n",
    "        # Sleep for a short time to avoid overusing the API\n",
    "        time.sleep(1)\n",
    "\n",
    "    except tweepy.TweepyException:\n",
    "        # If there is a Tweepy error, wait for 15 minutes before continuing\n",
    "        print(\"Hit rate limit. Waiting for 15 minutes...\")\n",
    "        time.sleep(900)\n",
    "\n",
    "# Save the dataframe to a CSV file\n",
    "df.to_csv('depression_tweets.csv', index=False)\n"
   ]
  },
  {
   "cell_type": "code",
   "execution_count": 6,
   "metadata": {},
   "outputs": [
    {
     "name": "stderr",
     "output_type": "stream",
     "text": [
      "  0%|          | 0/13 [00:00<?, ?it/s]"
     ]
    },
    {
     "name": "stdout",
     "output_type": "stream",
     "text": [
      "2023-05-08 2023-04-08 201\n"
     ]
    },
    {
     "name": "stderr",
     "output_type": "stream",
     "text": [
      "  8%|▊         | 1/13 [00:19<03:52, 19.37s/it]"
     ]
    },
    {
     "name": "stdout",
     "output_type": "stream",
     "text": [
      "2023-04-08 2023-03-09 0\n"
     ]
    },
    {
     "name": "stderr",
     "output_type": "stream",
     "text": [
      " 15%|█▌        | 2/13 [00:29<02:36, 14.20s/it]"
     ]
    },
    {
     "name": "stdout",
     "output_type": "stream",
     "text": [
      "2023-03-09 2023-02-07 0\n"
     ]
    },
    {
     "name": "stderr",
     "output_type": "stream",
     "text": [
      " 23%|██▎       | 3/13 [00:40<02:05, 12.51s/it]"
     ]
    },
    {
     "name": "stdout",
     "output_type": "stream",
     "text": [
      "2023-02-07 2023-01-08 0\n"
     ]
    },
    {
     "name": "stderr",
     "output_type": "stream",
     "text": [
      " 31%|███       | 4/13 [00:50<01:45, 11.72s/it]"
     ]
    },
    {
     "name": "stdout",
     "output_type": "stream",
     "text": [
      "2023-01-08 2022-12-09 0\n"
     ]
    },
    {
     "name": "stderr",
     "output_type": "stream",
     "text": [
      " 38%|███▊      | 5/13 [01:01<01:30, 11.26s/it]"
     ]
    },
    {
     "name": "stdout",
     "output_type": "stream",
     "text": [
      "2022-12-09 2022-11-09 0\n"
     ]
    },
    {
     "name": "stderr",
     "output_type": "stream",
     "text": [
      " 46%|████▌     | 6/13 [01:11<01:16, 10.99s/it]"
     ]
    },
    {
     "name": "stdout",
     "output_type": "stream",
     "text": [
      "2022-11-09 2022-10-10 0\n"
     ]
    },
    {
     "name": "stderr",
     "output_type": "stream",
     "text": [
      " 54%|█████▍    | 7/13 [01:22<01:04, 10.82s/it]"
     ]
    },
    {
     "name": "stdout",
     "output_type": "stream",
     "text": [
      "2022-10-10 2022-09-10 0\n"
     ]
    },
    {
     "name": "stderr",
     "output_type": "stream",
     "text": [
      " 62%|██████▏   | 8/13 [01:32<00:53, 10.70s/it]"
     ]
    },
    {
     "name": "stdout",
     "output_type": "stream",
     "text": [
      "2022-09-10 2022-08-11 0\n"
     ]
    },
    {
     "name": "stderr",
     "output_type": "stream",
     "text": [
      " 69%|██████▉   | 9/13 [01:43<00:42, 10.63s/it]"
     ]
    },
    {
     "name": "stdout",
     "output_type": "stream",
     "text": [
      "2022-08-11 2022-07-12 0\n"
     ]
    },
    {
     "name": "stderr",
     "output_type": "stream",
     "text": [
      " 77%|███████▋  | 10/13 [01:53<00:31, 10.62s/it]"
     ]
    },
    {
     "name": "stdout",
     "output_type": "stream",
     "text": [
      "2022-07-12 2022-06-12 0\n"
     ]
    },
    {
     "name": "stderr",
     "output_type": "stream",
     "text": [
      " 85%|████████▍ | 11/13 [02:04<00:21, 10.58s/it]"
     ]
    },
    {
     "name": "stdout",
     "output_type": "stream",
     "text": [
      "2022-06-12 2022-05-13 0\n"
     ]
    },
    {
     "name": "stderr",
     "output_type": "stream",
     "text": [
      " 92%|█████████▏| 12/13 [02:14<00:10, 10.53s/it]"
     ]
    },
    {
     "name": "stdout",
     "output_type": "stream",
     "text": [
      "2022-05-13 2022-04-13 0\n"
     ]
    },
    {
     "name": "stderr",
     "output_type": "stream",
     "text": [
      "100%|██████████| 13/13 [02:25<00:00, 11.17s/it]\n"
     ]
    }
   ],
   "source": [
    "# Replace <username>, <password>, <host>, and <port> with your database credentials\n",
    "import time, datetime\n",
    "from tqdm import tqdm\n",
    "client = pymongo.MongoClient(\"mongodb://localhost:27017/\")\n",
    "db = client[\"Twitter\"]\n",
    "collection = db[\"RAW_DATA\"]\n",
    "today = datetime.datetime.now().date()\n",
    "for i in tqdm(range(0,365,30)):\n",
    "    today = run_step(today,collection)\n",
    "    time.sleep(10)\n",
    "client.close()"
   ]
  },
  {
   "cell_type": "code",
   "execution_count": 11,
   "metadata": {},
   "outputs": [
    {
     "name": "stdout",
     "output_type": "stream",
     "text": [
      "2022-04-11\n"
     ]
    }
   ],
   "source": [
    "print(today)"
   ]
  },
  {
   "cell_type": "code",
   "execution_count": 38,
   "metadata": {},
   "outputs": [
    {
     "data": {
      "text/html": [
       "<div>\n",
       "<style scoped>\n",
       "    .dataframe tbody tr th:only-of-type {\n",
       "        vertical-align: middle;\n",
       "    }\n",
       "\n",
       "    .dataframe tbody tr th {\n",
       "        vertical-align: top;\n",
       "    }\n",
       "\n",
       "    .dataframe thead th {\n",
       "        text-align: right;\n",
       "    }\n",
       "</style>\n",
       "<table border=\"1\" class=\"dataframe\">\n",
       "  <thead>\n",
       "    <tr style=\"text-align: right;\">\n",
       "      <th></th>\n",
       "      <th>label</th>\n",
       "      <th>text</th>\n",
       "      <th>Date</th>\n",
       "    </tr>\n",
       "  </thead>\n",
       "  <tbody>\n",
       "    <tr>\n",
       "      <th>0</th>\n",
       "      <td>4</td>\n",
       "      <td>What a day here in dub!! The sun is jus shinei...</td>\n",
       "      <td>2022-06-30 08:52:00.819595</td>\n",
       "    </tr>\n",
       "    <tr>\n",
       "      <th>1</th>\n",
       "      <td>0</td>\n",
       "      <td>@officialTila  I wish I would get triple good ...</td>\n",
       "      <td>2022-11-12 08:52:00.819595</td>\n",
       "    </tr>\n",
       "    <tr>\n",
       "      <th>2</th>\n",
       "      <td>4</td>\n",
       "      <td>Diversity is crazy, susan boyle is hot</td>\n",
       "      <td>2022-11-04 08:52:00.819595</td>\n",
       "    </tr>\n",
       "    <tr>\n",
       "      <th>3</th>\n",
       "      <td>0</td>\n",
       "      <td>is tired and wants Matt to come back home  &amp;lt;3</td>\n",
       "      <td>2022-09-20 08:52:00.819595</td>\n",
       "    </tr>\n",
       "    <tr>\n",
       "      <th>4</th>\n",
       "      <td>4</td>\n",
       "      <td>Typically! After 4 days of great weather - the...</td>\n",
       "      <td>2022-08-31 08:52:00.819595</td>\n",
       "    </tr>\n",
       "  </tbody>\n",
       "</table>\n",
       "</div>"
      ],
      "text/plain": [
       "   label                                               text  \\\n",
       "0      4  What a day here in dub!! The sun is jus shinei...   \n",
       "1      0  @officialTila  I wish I would get triple good ...   \n",
       "2      4            Diversity is crazy, susan boyle is hot    \n",
       "3      0   is tired and wants Matt to come back home  &lt;3   \n",
       "4      4  Typically! After 4 days of great weather - the...   \n",
       "\n",
       "                         Date  \n",
       "0  2022-06-30 08:52:00.819595  \n",
       "1  2022-11-12 08:52:00.819595  \n",
       "2  2022-11-04 08:52:00.819595  \n",
       "3  2022-09-20 08:52:00.819595  \n",
       "4  2022-08-31 08:52:00.819595  "
      ]
     },
     "execution_count": 38,
     "metadata": {},
     "output_type": "execute_result"
    }
   ],
   "source": [
    "df = pd.read_csv('Depression.csv')\n",
    "df.head()"
   ]
  },
  {
   "cell_type": "code",
   "execution_count": 39,
   "metadata": {},
   "outputs": [
    {
     "data": {
      "text/plain": [
       "(10000, 3)"
      ]
     },
     "execution_count": 39,
     "metadata": {},
     "output_type": "execute_result"
    }
   ],
   "source": [
    "df.shape"
   ]
  },
  {
   "attachments": {},
   "cell_type": "markdown",
   "metadata": {},
   "source": [
    "# MongoDB "
   ]
  },
  {
   "cell_type": "code",
   "execution_count": 40,
   "metadata": {},
   "outputs": [
    {
     "data": {
      "text/plain": [
       "<pymongo.results.InsertManyResult at 0x199d39d2640>"
      ]
     },
     "execution_count": 40,
     "metadata": {},
     "output_type": "execute_result"
    }
   ],
   "source": [
    "client = pymongo.MongoClient(\"mongodb://localhost:27017/\")\n",
    "db = client[\"Twitter\"]\n",
    "collection = db[\"RAW_DATA\"]\n",
    "data_dict = df.to_dict(orient=\"records\")\n",
    "# insert the data into the collection\n",
    "collection.insert_many(data_dict)"
   ]
  },
  {
   "cell_type": "code",
   "execution_count": 41,
   "metadata": {},
   "outputs": [
    {
     "name": "stdout",
     "output_type": "stream",
     "text": [
      "The collection contains 13009 documents.\n"
     ]
    }
   ],
   "source": [
    "from pymongo import MongoClient\n",
    "\n",
    "# Connect to MongoDB\n",
    "client = MongoClient('localhost', 27017)\n",
    "db = client['Twitter']\n",
    "collection = db['RAW_DATA']\n",
    "\n",
    "# Read data from collection and calculate size\n",
    "data = list(collection.find())\n",
    "size = len(data)\n",
    "\n",
    "# Print size\n",
    "print(f\"The collection contains {size} documents.\")\n"
   ]
  }
 ],
 "metadata": {
  "kernelspec": {
   "display_name": "Python 3",
   "language": "python",
   "name": "python3"
  },
  "language_info": {
   "codemirror_mode": {
    "name": "ipython",
    "version": 3
   },
   "file_extension": ".py",
   "mimetype": "text/x-python",
   "name": "python",
   "nbconvert_exporter": "python",
   "pygments_lexer": "ipython3",
   "version": "3.9.6"
  },
  "orig_nbformat": 4
 },
 "nbformat": 4,
 "nbformat_minor": 2
}
